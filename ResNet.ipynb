{
 "cells": [
  {
   "cell_type": "code",
   "execution_count": 7,
   "id": "0e2b9b1f",
   "metadata": {
    "scrolled": false
   },
   "outputs": [
    {
     "name": "stdout",
     "output_type": "stream",
     "text": [
      "Collecting split_folders\n",
      "  Downloading split_folders-0.5.1-py3-none-any.whl (8.4 kB)\n",
      "Installing collected packages: split_folders\n",
      "Successfully installed split_folders-0.5.1\n"
     ]
    }
   ],
   "source": [
    "!pip install split_folders"
   ]
  },
  {
   "cell_type": "code",
   "execution_count": 5,
   "id": "09712dee",
   "metadata": {},
   "outputs": [],
   "source": [
    "import splitfolders"
   ]
  },
  {
   "cell_type": "code",
   "execution_count": 3,
   "id": "fceff463",
   "metadata": {},
   "outputs": [],
   "source": [
    "input_folder = \"data\"\n",
    "output = \"processed_data\"\n",
    "splitfolders.ratio(input_folder, output, seed=42, ratio = (.6, .2, .2))"
   ]
  },
  {
   "cell_type": "code",
   "execution_count": 10,
   "id": "3943a56e",
   "metadata": {},
   "outputs": [
    {
     "name": "stdout",
     "output_type": "stream",
     "text": [
      "Help on function ratio in module splitfolders.split:\n",
      "\n",
      "ratio(input, output='output', seed=1337, ratio=(0.8, 0.1, 0.1), group_prefix=None, move=False)\n",
      "\n"
     ]
    }
   ],
   "source": [
    "help(splitfolders.ratio)"
   ]
  },
  {
   "cell_type": "code",
   "execution_count": 8,
   "id": "7f3b31af",
   "metadata": {},
   "outputs": [
    {
     "name": "stdout",
     "output_type": "stream",
     "text": [
      " Volume in drive D is VAK\n",
      " Volume Serial Number is 145A-46F3\n",
      "\n",
      " Directory of D:\\Osteoporosis Project\\ResNet\n",
      "\n",
      "03/21/2023  10:53 AM    <DIR>          .\n",
      "03/21/2023  10:53 AM    <DIR>          ..\n",
      "03/21/2023  10:46 AM    <DIR>          .ipynb_checkpoints\n",
      "03/21/2023  10:53 AM             1,197 ResNet.ipynb\n",
      "               1 File(s)          1,197 bytes\n",
      "               3 Dir(s)  887,267,299,328 bytes free\n"
     ]
    }
   ],
   "source": [
    "ls"
   ]
  },
  {
   "cell_type": "code",
   "execution_count": 1,
   "id": "76d4cad5",
   "metadata": {},
   "outputs": [],
   "source": [
    "from tensorflow.keras.layers import Conv2D, Flatten, Dense, MaxPool2D, BatchNormalization, GlobalAveragePooling2D\n",
    "from tensorflow.keras.applications.resnet50 import preprocess_input, decode_predictions\n",
    "from tensorflow.keras.preprocessing.image import ImageDataGenerator, load_img\n",
    "from tensorflow.keras.applications.resnet50 import ResNet50\n",
    "from tensorflow.keras.preprocessing import image\n",
    "from tensorflow.keras.models import Sequential\n",
    "from tensorflow.keras.models import Model\n",
    "import matplotlib.pyplot as plt\n",
    "import numpy as np"
   ]
  },
  {
   "cell_type": "markdown",
   "id": "2fd55486",
   "metadata": {},
   "source": [
    "### Printing Versions of the libraries installed\n",
    "\n",
    "import tensorflow as tf\n",
    "\n",
    "import numpy as np\n",
    "\n",
    "import matplotlib as plt\n",
    "\n",
    "print(tf.__version__)\n",
    "\n",
    "print(np.__version__)\n",
    "\n",
    "print(plt.__version__)\n",
    "\n",
    "print(splitfolders.__version__)\n"
   ]
  },
  {
   "cell_type": "code",
   "execution_count": 2,
   "id": "fc7ce6bd",
   "metadata": {},
   "outputs": [],
   "source": [
    "img_height, img_width = (224, 224)\n",
    "batch_size = 32\n",
    "\n",
    "train_data_dir = r\"processed_data\\train\"\n",
    "valid_data_dir = r\"processed_data\\val\"\n",
    "test_data_dir = r\"processed_data\\test\""
   ]
  },
  {
   "cell_type": "code",
   "execution_count": 11,
   "id": "4ce1e888",
   "metadata": {},
   "outputs": [
    {
     "name": "stdout",
     "output_type": "stream",
     "text": [
      "Found 127 images belonging to 2 classes.\n",
      "Found 83 images belonging to 2 classes.\n",
      "Found 10 images belonging to 2 classes.\n"
     ]
    }
   ],
   "source": [
    "train_datagen = ImageDataGenerator(preprocessing_function = preprocess_input,\n",
    "                                  shear_range = 0.2,\n",
    "                                  zoom_range = 0.2,\n",
    "                                  horizontal_flip = True,\n",
    "                                  validation_split = 0.4)\n",
    "\n",
    "train_generator = train_datagen.flow_from_directory(train_data_dir,\n",
    "                                                   target_size = (img_height, img_width),\n",
    "                                                   batch_size = batch_size,\n",
    "                                                   class_mode = 'categorical',\n",
    "                                                   subset = 'training')\n",
    "\n",
    "valid_generator = train_datagen.flow_from_directory(train_data_dir,\n",
    "                                                   target_size = (img_height, img_width),\n",
    "                                                   batch_size = batch_size,\n",
    "                                                   class_mode = 'categorical',\n",
    "                                                   subset = 'validation')\n",
    "\n",
    "test_generator = train_datagen.flow_from_directory(test_data_dir,\n",
    "                                                   target_size = (img_height, img_width),\n",
    "                                                   batch_size = 1,\n",
    "                                                   class_mode = 'categorical',\n",
    "                                                   subset = 'validation')"
   ]
  },
  {
   "cell_type": "code",
   "execution_count": 4,
   "id": "f59b6b8c",
   "metadata": {},
   "outputs": [
    {
     "data": {
      "text/plain": [
       "(1, 224, 224, 3)"
      ]
     },
     "execution_count": 4,
     "metadata": {},
     "output_type": "execute_result"
    }
   ],
   "source": [
    "x, y = test_generator.next()\n",
    "x.shape"
   ]
  },
  {
   "cell_type": "code",
   "execution_count": 6,
   "id": "11632ccc",
   "metadata": {},
   "outputs": [
    {
     "data": {
      "text/plain": [
       "2"
      ]
     },
     "execution_count": 6,
     "metadata": {},
     "output_type": "execute_result"
    }
   ],
   "source": [
    "train_generator.num_classes"
   ]
  },
  {
   "cell_type": "code",
   "execution_count": 5,
   "id": "afb7ecca",
   "metadata": {},
   "outputs": [
    {
     "name": "stdout",
     "output_type": "stream",
     "text": [
      "Epoch 1/10\n",
      "4/4 [==============================] - 9s 2s/step - loss: 1.9268 - accuracy: 0.5512\n",
      "Epoch 2/10\n",
      "4/4 [==============================] - 7s 2s/step - loss: 0.4607 - accuracy: 0.7953\n",
      "Epoch 3/10\n",
      "4/4 [==============================] - 6s 2s/step - loss: 0.3948 - accuracy: 0.8425\n",
      "Epoch 4/10\n",
      "4/4 [==============================] - 6s 2s/step - loss: 0.2708 - accuracy: 0.8819\n",
      "Epoch 5/10\n",
      "4/4 [==============================] - 12s 3s/step - loss: 0.1712 - accuracy: 0.9449\n",
      "Epoch 6/10\n",
      "4/4 [==============================] - 7s 2s/step - loss: 0.1946 - accuracy: 0.9134\n",
      "Epoch 7/10\n",
      "4/4 [==============================] - 9s 2s/step - loss: 0.1937 - accuracy: 0.9213\n",
      "Epoch 8/10\n",
      "4/4 [==============================] - 9s 2s/step - loss: 0.1761 - accuracy: 0.9370\n",
      "Epoch 9/10\n",
      "4/4 [==============================] - 8s 2s/step - loss: 0.1566 - accuracy: 0.9449\n",
      "Epoch 10/10\n",
      "4/4 [==============================] - 7s 2s/step - loss: 0.1198 - accuracy: 0.9606\n"
     ]
    },
    {
     "data": {
      "text/plain": [
       "<keras.callbacks.History at 0x20d9fc8d010>"
      ]
     },
     "execution_count": 5,
     "metadata": {},
     "output_type": "execute_result"
    }
   ],
   "source": [
    "base_model = ResNet50(include_top = False, weights = 'imagenet')\n",
    "x = base_model.output\n",
    "x = GlobalAveragePooling2D()(x)\n",
    "x = Dense(1024, activation = 'relu')(x)\n",
    "predictions = Dense(train_generator.num_classes, activation = 'softmax')(x)\n",
    "model = Model(inputs = base_model.input, outputs = predictions)\n",
    "\n",
    "for layer in base_model.layers:\n",
    "    layer.trainable = False\n",
    "    \n",
    "model.compile(optimizer = 'adam', loss = 'categorical_crossentropy', metrics = ['accuracy'])\n",
    "model.fit(train_generator, epochs = 10)"
   ]
  },
  {
   "cell_type": "code",
   "execution_count": 6,
   "id": "0187724c",
   "metadata": {},
   "outputs": [],
   "source": [
    "model.save('saved_models\\model8.h5')"
   ]
  },
  {
   "cell_type": "code",
   "execution_count": 12,
   "id": "228b4ad9",
   "metadata": {},
   "outputs": [
    {
     "name": "stdout",
     "output_type": "stream",
     "text": [
      "10/10 - 2s - loss: 1.2420 - accuracy: 0.8000 - 2s/epoch - 170ms/step\n",
      "\n",
      "Test Accuracy:  0.800000011920929\n"
     ]
    }
   ],
   "source": [
    "test_loss, test_acc = model.evaluate(test_generator, verbose = 2)\n",
    "print('\\nTest Accuracy: ', test_acc)"
   ]
  },
  {
   "cell_type": "code",
   "execution_count": 13,
   "id": "459bcbee",
   "metadata": {},
   "outputs": [
    {
     "name": "stdout",
     "output_type": "stream",
     "text": [
      "1/1 [==============================] - 1s 818ms/step\n",
      "1/1 [==============================] - 0s 115ms/step\n",
      "1/1 [==============================] - 0s 116ms/step\n",
      "1/1 [==============================] - 0s 132ms/step\n",
      "1/1 [==============================] - 0s 102ms/step\n",
      "1/1 [==============================] - 0s 116ms/step\n",
      "1/1 [==============================] - 0s 116ms/step\n",
      "1/1 [==============================] - 0s 100ms/step\n",
      "1/1 [==============================] - 0s 116ms/step\n",
      "1/1 [==============================] - 0s 144ms/step\n"
     ]
    },
    {
     "data": {
      "image/png": "[encoded data removed]",
      "text/plain": [
       "<Figure size 640x480 with 2 Axes>"
      ]
     },
     "metadata": {},
     "output_type": "display_data"
    },
    {
     "name": "stdout",
     "output_type": "stream",
     "text": [
      "test accuracy : 800\n"
     ]
    }
   ],
   "source": [
    "import pandas as pd\n",
    "import seaborn as sn\n",
    "import tensorflow as tf\n",
    "\n",
    "model = tf.keras.models.load_model('saved_models\\model1.h5')\n",
    "filenames = test_generator.filenames\n",
    "nb_samples = len(test_generator)\n",
    "y_prob = []\n",
    "y_act = []\n",
    "test_generator.reset()\n",
    "for _ in range(nb_samples):\n",
    "    x_test, y_test = test_generator.next()\n",
    "    y_prob.append(model.predict(x_test))\n",
    "    y_act.append(y_test)\n",
    "\n",
    "predicted_class = [list(train_generator.class_indices.keys())[i.argmax()] for i in y_prob]\n",
    "actual_class = [list(train_generator.class_indices.keys())[i.argmax()] for i in y_act]\n",
    "\n",
    "out_df = pd.DataFrame(np.vstack([predicted_class, actual_class]).T, columns = ['predicted_class', 'actual_class'])\n",
    "confusion_matrix = pd.crosstab(out_df['actual_class'], out_df['predicted_class'], rownames = ['Actual'], colnames = ['Predicted'])\n",
    "\n",
    "sn.heatmap(confusion_matrix, cmap = 'Blues', annot = True, fmt = 'd')\n",
    "plt.show()\n",
    "print('test accuracy : {}'.format((np.diagonal(confusion_matrix).sum().sum()*100)))"
   ]
  },
  {
   "cell_type": "code",
   "execution_count": null,
   "id": "d9f74f9f",
   "metadata": {},
   "outputs": [],
   "source": []
  }
 ],
 "metadata": {
  "kernelspec": {
   "display_name": "Python 3 (ipykernel)",
   "language": "python",
   "name": "python3"
  },
  "language_info": {
   "codemirror_mode": {
    "name": "ipython",
    "version": 3
   },
   "file_extension": ".py",
   "mimetype": "text/x-python",
   "name": "python",
   "nbconvert_exporter": "python",
   "pygments_lexer": "ipython3",
   "version": "3.11.2"
  }
 },
 "nbformat": 4,
 "nbformat_minor": 5
}
